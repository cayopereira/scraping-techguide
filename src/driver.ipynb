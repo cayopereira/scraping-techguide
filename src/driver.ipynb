{
 "cells": [
  {
   "cell_type": "code",
   "execution_count": 12,
   "id": "11f34c74",
   "metadata": {},
   "outputs": [],
   "source": [
    "from urllib.request import Request, urlopen, urlretrieve\n",
    "from urllib.error import URLError, HTTPError\n",
    "from bs4 import BeautifulSoup\n",
    "from selenium import webdriver\n",
    "from selenium.webdriver.chrome.service import Service\n",
    "from webdriver_manager.chrome import ChromeDriverManager\n",
    "from selenium.webdriver.common.by import By\n",
    "from selenium.webdriver.common.keys import Keys\n",
    "from selenium.webdriver.support.wait import WebDriverWait\n",
    "from selenium.webdriver.support import expected_conditions as EC\n",
    "import time\n"
   ]
  },
  {
   "cell_type": "code",
   "execution_count": null,
   "id": "e414faef",
   "metadata": {},
   "outputs": [],
   "source": [
    "\n",
    "service = Service(ChromeDriverManager().install())\n",
    "driver = webdriver.Chrome(service=service)\n",
    "\n",
    "url = 'https://techguide.sh/pt-BR/path/java/'\n",
    "driver.get(url)\n",
    "\n",
    "wait = WebDriverWait(driver, 10)\n",
    "\n",
    "# Encontre todos os botões\n",
    "buttons = driver.find_elements(By.TAG_NAME, 'button')\n",
    "\n",
    "all_links = []\n",
    "\n",
    "for button in buttons:\n",
    "    try:\n",
    "        # Clica no botão para abrir a div\n",
    "        button.click()\n",
    "\n",
    "        # Espera a div aparecer (exemplo: localizar pela xpath ou outra forma que identifica a div)\n",
    "        # Aqui você precisa ajustar para o seletor correto da div que aparece\n",
    "        div = wait.until(EC.visibility_of_element_located((By.XPATH, '//div[@class=\"nome-da-div\"]')))\n",
    "        \n",
    "        # Pega todos os links dentro dessa div\n",
    "        links = div.find_elements(By.TAG_NAME, 'a')\n",
    "        for link in links:\n",
    "            href = link.get_attribute('href')\n",
    "            if href:\n",
    "                all_links.append(href)\n",
    "        \n",
    "        # Clica no botão ou ícone para fechar a div\n",
    "        close_icon = driver.find_element(By.XPATH, '/html/body/div/div/div/div[2]/div[1]/div[2]/svg')\n",
    "        close_icon.click()\n",
    "\n",
    "        # Dá uma pequena pausa para o fechamento acontecer\n",
    "        time.sleep(1)\n",
    "    except Exception as e:\n",
    "        print(f'Erro no botão: {e}')\n",
    "        pass\n",
    "\n",
    "print(f'Total de links capturados: {len(all_links)}')\n",
    "print(all_links)\n",
    "\n",
    "driver.quit()"
   ]
  }
 ],
 "metadata": {
  "kernelspec": {
   "display_name": ".venv",
   "language": "python",
   "name": "python3"
  },
  "language_info": {
   "codemirror_mode": {
    "name": "ipython",
    "version": 3
   },
   "file_extension": ".py",
   "mimetype": "text/x-python",
   "name": "python",
   "nbconvert_exporter": "python",
   "pygments_lexer": "ipython3",
   "version": "3.12.3"
  }
 },
 "nbformat": 4,
 "nbformat_minor": 5
}
