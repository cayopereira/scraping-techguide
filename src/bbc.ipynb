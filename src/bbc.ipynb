{
 "cells": [
  {
   "cell_type": "code",
   "execution_count": 1,
   "id": "b0f38393",
   "metadata": {},
   "outputs": [],
   "source": [
    "import pandas as pd\n",
    "from bs4 import BeautifulSoup\n",
    "from urllib.request import urlopen, Request"
   ]
  },
  {
   "cell_type": "code",
   "execution_count": 2,
   "id": "b85913fe",
   "metadata": {},
   "outputs": [],
   "source": [
    "def get_source(url):\n",
    "    headers={'User-Agent': 'Mozilla/5.0 (Windows NT 6.1) AppleWebKit/537.36 (KHTML, like Gecko) Chrome/41.0.2228.0 Safari/537.3'}\n",
    "    req = Request(url=url, headers=headers)\n",
    "    html = urlopen(req).read()\n",
    "    return html.decode()\n",
    "\n",
    "\n",
    "def activities(url):\n",
    "    html = get_source(url)\n",
    "\n",
    "    # Extrair HTML da página\n",
    "    soup = BeautifulSoup(html, 'html.parser')\n",
    "\n",
    "    title = soup.find('span', class_ = 'bbcle-unit-title').text\n",
    "    unit_subtitle = soup.find('span', class_ = 'bbcle-unit-subtitle').text\n",
    "    unit = title.split(':')[0]\n",
    "    unit_title = title.split(':')[1]\n",
    "\n",
    "    unit_dicts = []\n",
    "\n",
    "    for item in soup.find_all('li', class_='item item-session active'):\n",
    "    \n",
    "        session_name = item.find('h2').text\n",
    "        activity_name = item.find('h3').text\n",
    "        tmp_dict = {'unidade': unit\n",
    "                    , 'tema': ' - '.join([unit_title, unit_subtitle])\n",
    "                    , 'sessao': session_name\n",
    "                    , 'atividade': activity_name}\n",
    "        unit_dicts.append(tmp_dict)\n",
    "\n",
    "    return unit_dicts\n",
    "\n"
   ]
  },
  {
   "cell_type": "code",
   "execution_count": 3,
   "id": "4a2349dc",
   "metadata": {},
   "outputs": [],
   "source": [
    "html = get_source('https://www.bbc.co.uk/learningenglish/english/course/upper-intermediate/unit-1')"
   ]
  },
  {
   "cell_type": "code",
   "execution_count": 63,
   "id": "a1d8b364",
   "metadata": {},
   "outputs": [],
   "source": [
    "bbc_dicts = []\n",
    "\n",
    "for i in range(1,31):\n",
    "    url = f'https://www.bbc.co.uk/learningenglish/english/course/upper-intermediate/unit-{i}'\n",
    "    dicts_list = activities(url)\n",
    "    for d in dicts_list:\n",
    "        bbc_dicts.append(d)\n",
    "\n",
    "    \n"
   ]
  },
  {
   "cell_type": "markdown",
   "id": "78463f53",
   "metadata": {},
   "source": [
    "Gerando a planilha\n"
   ]
  },
  {
   "cell_type": "code",
   "execution_count": 66,
   "id": "9df4cbf1",
   "metadata": {},
   "outputs": [],
   "source": [
    "df = pd.DataFrame(bbc_dicts)\n",
    "df.to_csv('../bbc-upper-intermediate.csv', index=False)"
   ]
  }
 ],
 "metadata": {
  "kernelspec": {
   "display_name": ".venv",
   "language": "python",
   "name": "python3"
  },
  "language_info": {
   "codemirror_mode": {
    "name": "ipython",
    "version": 3
   },
   "file_extension": ".py",
   "mimetype": "text/x-python",
   "name": "python",
   "nbconvert_exporter": "python",
   "pygments_lexer": "ipython3",
   "version": "3.12.3"
  }
 },
 "nbformat": 4,
 "nbformat_minor": 5
}
